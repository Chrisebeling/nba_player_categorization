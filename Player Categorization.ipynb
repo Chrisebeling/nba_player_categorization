{
 "cells": [
  {
   "cell_type": "code",
   "execution_count": null,
   "metadata": {},
   "outputs": [],
   "source": [
    "import pandas as pd\n",
    "import matplotlib.pyplot as plt\n",
    "from plotting import import_pickle, friendly_data, plot_career, plot_player, show_summary\n",
    "\n",
    "pd.options.display.float_format = '{:.1f}'.format\n",
    "pd.options.display.max_columns = 30"
   ]
  },
  {
   "cell_type": "code",
   "execution_count": null,
   "metadata": {},
   "outputs": [],
   "source": [
    "%matplotlib notebook\n",
    "seasons = import_pickle('all_seasons.pickle')\n",
    "career = import_pickle('career.pickle')\n",
    "\n",
    "seasons += friendly_data(seasons[5], seasons[1], seasons[2], seasons[4], 'seasons_cluster_desc.csv')\n",
    "career += friendly_data(career[5], career[1], career[2], career[4])"
   ]
  },
  {
   "cell_type": "code",
   "execution_count": null,
   "metadata": {},
   "outputs": [],
   "source": [
    "player = ['Klay Thompson', 'Stephen Curry']\n",
    "plot_career(player, seasons[-2], seasons[-1])"
   ]
  },
  {
   "cell_type": "code",
   "execution_count": null,
   "metadata": {},
   "outputs": [],
   "source": [
    "player = 'Klay Thompson'\n",
    "plot_player(player, career[-2], career[-1], career[4])"
   ]
  },
  {
   "cell_type": "code",
   "execution_count": null,
   "metadata": {},
   "outputs": [],
   "source": [
    "show_summary(career)"
   ]
  }
 ],
 "metadata": {
  "kernelspec": {
   "display_name": "Python 3",
   "language": "python",
   "name": "python3"
  },
  "language_info": {
   "codemirror_mode": {
    "name": "ipython",
    "version": 3
   },
   "file_extension": ".py",
   "mimetype": "text/x-python",
   "name": "python",
   "nbconvert_exporter": "python",
   "pygments_lexer": "ipython3",
   "version": "3.7.2"
  }
 },
 "nbformat": 4,
 "nbformat_minor": 2
}
