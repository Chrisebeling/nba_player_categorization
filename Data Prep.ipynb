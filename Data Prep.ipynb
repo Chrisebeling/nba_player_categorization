{
 "cells": [
  {
   "cell_type": "code",
   "execution_count": null,
   "metadata": {},
   "outputs": [],
   "source": [
    "import pandas as pd\n",
    "import numpy as np\n",
    "import matplotlib.pyplot as plt\n",
    "from mpl_toolkits import mplot3d\n",
    "import matplotlib.ticker as mtick\n",
    "import seaborn as sns\n",
    "import pickle\n",
    "\n",
    "from nba_stats.read_write.basic_stats import ReadDatabase"
   ]
  },
  {
   "cell_type": "code",
   "execution_count": null,
   "metadata": {},
   "outputs": [],
   "source": [
    "from clustering import plot_cluster, run_clustering, NormaliseFeatures"
   ]
  },
  {
   "cell_type": "code",
   "execution_count": null,
   "metadata": {},
   "outputs": [],
   "source": [
    "%matplotlib notebook\n",
    "pd.options.display.float_format = '{:.1f}'.format\n",
    "pd.options.display.max_columns = 30"
   ]
  },
  {
   "cell_type": "code",
   "execution_count": null,
   "metadata": {},
   "outputs": [],
   "source": [
    "sql_conn = ReadDatabase()"
   ]
  },
  {
   "cell_type": "code",
   "execution_count": null,
   "metadata": {},
   "outputs": [],
   "source": [
    "sql_conn.basic_summary(playoffs='regular', groupby=None, summary_name='career')\n",
    "sql_conn.basic_summary(playoffs='regular', summary_name='by_season')"
   ]
  },
  {
   "cell_type": "code",
   "execution_count": null,
   "metadata": {},
   "outputs": [],
   "source": [
    "stats_season = sql_conn.get_summary('by_season')[sql_conn.get_summary('by_season').loc[:,'game_count'] > 10].reset_index(drop=True)\n",
    "stats_2019 = stats_season[stats_season.loc[:,'season'] == 2019].reset_index(drop=True)\n",
    "stats_career = sql_conn.get_summary('career')[sql_conn.get_summary('career').loc[:,'game_count'] > 4 * 82].reset_index(drop=True)\n",
    "stats_career_finished = stats_career[stats_career.loc[:,'max_season'] != 2020].reset_index(drop=True)"
   ]
  },
  {
   "cell_type": "markdown",
   "metadata": {},
   "source": [
    "# Clustering Algorithm"
   ]
  },
  {
   "cell_type": "code",
   "execution_count": null,
   "metadata": {},
   "outputs": [],
   "source": [
    "stats = stats_career.copy()"
   ]
  },
  {
   "cell_type": "code",
   "execution_count": null,
   "metadata": {},
   "outputs": [],
   "source": [
    "# add fg2 stats\n",
    "stats.loc[:,'fg2a'] = stats.loc[:,'fga'] - stats.loc[:,'fg3a']\n",
    "stats.loc[:,'fg2'] = stats.loc[:,'fg'] - stats.loc[:,'fg3']\n",
    "stats.loc[:,'fg2_pct'] = stats.loc[:,'fg2'] / stats.loc[:,'fg2a']\n",
    "\n",
    "# 1 player has no fta, 20 have no 3pa\n",
    "for column in ['ft_pct', 'fg2_pct', 'fg3_pct']:\n",
    "    stats.loc[:,column] = stats.loc[:,column].fillna(stats.loc[:,column].mean())\n",
    "    \n",
    "desired_stats = ['pts', 'trb', 'ast', 'blk', 'stl','tov','fg3_pct', 'fg2_pct', 'ft_pct', 'fg3a', 'fg2a', 'fta']\n",
    "info_stats = ['last_name','first_name','season','min_season', 'max_season']\n",
    "info_stats = [x for x in info_stats if x in stats.columns]\n",
    "data = stats[info_stats + desired_stats]\n",
    "X = data[desired_stats].to_numpy()"
   ]
  },
  {
   "cell_type": "code",
   "execution_count": null,
   "metadata": {},
   "outputs": [],
   "source": [
    "final_clusters, final_closest, final_cost, close_min_max = run_clustering(X, 15, 100, 50)"
   ]
  },
  {
   "cell_type": "code",
   "execution_count": null,
   "metadata": {},
   "outputs": [],
   "source": [
    "plt.figure()\n",
    "plt.plot(final_cost);"
   ]
  },
  {
   "cell_type": "code",
   "execution_count": null,
   "metadata": {},
   "outputs": [],
   "source": [
    "plot_cluster(X, closest_cluster=final_closest, clusters=final_clusters)\n",
    "plt.ylabel('Rebounds')\n",
    "plt.xlabel('Points')\n",
    "plt.gca().set_zlabel('Assists');"
   ]
  },
  {
   "cell_type": "code",
   "execution_count": null,
   "metadata": {},
   "outputs": [],
   "source": [
    "elbow_cost = []\n",
    "for i in range(2, 31):\n",
    "    _, _, cost_temp, _ = run_clustering(X, i, 50, 50, suppress=True)\n",
    "    elbow_cost.append([i, cost_temp[-1][0]])"
   ]
  },
  {
   "cell_type": "code",
   "execution_count": null,
   "metadata": {},
   "outputs": [],
   "source": [
    "plt.figure()\n",
    "plt.plot([x[0] for x in elbow_cost], [x[1] for x in elbow_cost])"
   ]
  },
  {
   "cell_type": "code",
   "execution_count": null,
   "metadata": {},
   "outputs": [],
   "source": [
    "# run if you want to save a copy of the results\n",
    "pickle_file = 'career.pickle'\n",
    "with open(pickle_file, \"wb\") as f:\n",
    "    pickle.dump([stats, final_clusters, final_closest, final_cost, close_min_max], f)"
   ]
  },
  {
   "cell_type": "code",
   "execution_count": null,
   "metadata": {},
   "outputs": [],
   "source": []
  }
 ],
 "metadata": {
  "kernelspec": {
   "display_name": "Python 3",
   "language": "python",
   "name": "python3"
  },
  "language_info": {
   "codemirror_mode": {
    "name": "ipython",
    "version": 3
   },
   "file_extension": ".py",
   "mimetype": "text/x-python",
   "name": "python",
   "nbconvert_exporter": "python",
   "pygments_lexer": "ipython3",
   "version": "3.7.2"
  }
 },
 "nbformat": 4,
 "nbformat_minor": 2
}
